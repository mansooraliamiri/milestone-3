{
 "cells": [
  {
   "cell_type": "code",
   "execution_count": 1,
   "metadata": {},
   "outputs": [
    {
     "name": "stdout",
     "output_type": "stream",
     "text": [
      "/home/shabgard/ift6758-venv/project/Milestone2/NHL/NHL\n"
     ]
    },
    {
     "data": {
      "text/plain": [
       "'/home/shabgard/ift6758-venv/project/Milestone2/NHL/NHL'"
      ]
     },
     "execution_count": 1,
     "metadata": {},
     "output_type": "execute_result"
    }
   ],
   "source": [
    "%load_ext autoreload\n",
    "%autoreload 2\n",
    "\n",
    "import pathlib\n",
    "if pathlib.Path().resolve().name == 'notebooks':\n",
    "    %cd ..\n",
    "%pwd"
   ]
  },
  {
   "cell_type": "code",
   "execution_count": 2,
   "metadata": {},
   "outputs": [],
   "source": [
    "import plotly.graph_objects as go\n",
    "import plotly.express as px\n",
    "import pandas as pd\n",
    "import numpy as np\n",
    "from src.data import NHLDataDownloader\n",
    "from src.features import load_df_shots"
   ]
  },
  {
   "cell_type": "code",
   "execution_count": 6,
   "metadata": {},
   "outputs": [],
   "source": [
    "columns = ['Shot_distance', 'Shot_angle', 'Goal', 'Empty_net']\n",
    "df_2016 = load_df_shots(2016)\n",
    "#df_2017 = load_df_shots(2017)\n",
    "#df_2018 = load_df_shots(2018)\n",
    "#df_2019 = load_df_shots(2019)\n",
    "#df_2020 = load_df_shots(2020)\n",
    "\n",
    "#df_tot = pd.concat([df_2016, df_2017, df_2018, df_2019]).reset_index(drop=True)\n",
    "df_tot = pd.concat([df_2016]).reset_index(drop=True)\n",
    "df = df_tot[columns]"
   ]
  }
 ],
 "metadata": {
  "kernelspec": {
   "display_name": "venv",
   "language": "python",
   "name": "python3"
  },
  "language_info": {
   "codemirror_mode": {
    "name": "ipython",
    "version": 3
   },
   "file_extension": ".py",
   "mimetype": "text/x-python",
   "name": "python",
   "nbconvert_exporter": "python",
   "pygments_lexer": "ipython3",
   "version": "3.11.2"
  }
 },
 "nbformat": 4,
 "nbformat_minor": 2
}
